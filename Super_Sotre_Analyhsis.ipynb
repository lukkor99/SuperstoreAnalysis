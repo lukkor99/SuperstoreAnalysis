{
 "cells": [
  {
   "cell_type": "markdown",
   "metadata": {},
   "source": [
    "Dependency resolving and sql extension laod."
   ]
  },
  {
   "cell_type": "code",
   "execution_count": null,
   "metadata": {},
   "outputs": [],
   "source": [
    "%pip install -r config/requirements.txt"
   ]
  },
  {
   "cell_type": "code",
   "execution_count": null,
   "metadata": {},
   "outputs": [],
   "source": [
    "%load_ext sql"
   ]
  },
  {
   "cell_type": "code",
   "execution_count": 10,
   "metadata": {},
   "outputs": [],
   "source": [
    "%sql mssql+pyodbc://PLLUKOR1@local"
   ]
  },
  {
   "cell_type": "markdown",
   "metadata": {},
   "source": [
    "Data sample"
   ]
  },
  {
   "cell_type": "code",
   "execution_count": 19,
   "metadata": {},
   "outputs": [
    {
     "name": "stdout",
     "output_type": "stream",
     "text": [
      " * mssql+pyodbc://PLLUKOR1@local\n",
      "Done.\n",
      "Done.\n"
     ]
    },
    {
     "data": {
      "text/html": [
       "<table>\n",
       "    <tr>\n",
       "        <th>OderDate</th>\n",
       "        <th>ShipDate</th>\n",
       "        <th>ShipModeName</th>\n",
       "        <th>CustomerID</th>\n",
       "        <th>CustomerName</th>\n",
       "        <th>SegmentName</th>\n",
       "        <th>CityName</th>\n",
       "        <th>StateName</th>\n",
       "        <th>RegionName</th>\n",
       "        <th>PostalCode</th>\n",
       "        <th>ProductID</th>\n",
       "        <th>CategoryName</th>\n",
       "        <th>SubCategoryName</th>\n",
       "        <th>ProductName</th>\n",
       "        <th>Sales</th>\n",
       "        <th>Quantity</th>\n",
       "        <th>Discount</th>\n",
       "        <th>Profit</th>\n",
       "    </tr>\n",
       "    <tr>\n",
       "        <td>2016-08-11 00:00:00</td>\n",
       "        <td>2016-11-11 00:00:00</td>\n",
       "        <td>Second Class</td>\n",
       "        <td>CG-12520</td>\n",
       "        <td>Claire Gute</td>\n",
       "        <td>Consumer</td>\n",
       "        <td>Henderson</td>\n",
       "        <td>Kentucky</td>\n",
       "        <td>South</td>\n",
       "        <td>42420</td>\n",
       "        <td>FUR-BO-10001798</td>\n",
       "        <td>Furniture</td>\n",
       "        <td>Bookcases</td>\n",
       "        <td>Bush Somerset Collection Bookcase</td>\n",
       "        <td>261.96</td>\n",
       "        <td>2</td>\n",
       "        <td>0.00</td>\n",
       "        <td>41.91</td>\n",
       "    </tr>\n",
       "    <tr>\n",
       "        <td>2016-08-11 00:00:00</td>\n",
       "        <td>2016-11-11 00:00:00</td>\n",
       "        <td>Second Class</td>\n",
       "        <td>CG-12520</td>\n",
       "        <td>Claire Gute</td>\n",
       "        <td>Consumer</td>\n",
       "        <td>Henderson</td>\n",
       "        <td>Kentucky</td>\n",
       "        <td>South</td>\n",
       "        <td>42420</td>\n",
       "        <td>FUR-CH-10000454</td>\n",
       "        <td>Furniture</td>\n",
       "        <td>Chairs</td>\n",
       "        <td>Hon Deluxe Fabric Upholstered Stacking Chairs, Rounded Back</td>\n",
       "        <td>731.94</td>\n",
       "        <td>3</td>\n",
       "        <td>0.00</td>\n",
       "        <td>219.58</td>\n",
       "    </tr>\n",
       "    <tr>\n",
       "        <td>2016-12-06 00:00:00</td>\n",
       "        <td>2016-06-16 00:00:00</td>\n",
       "        <td>Second Class</td>\n",
       "        <td>DV-13045</td>\n",
       "        <td>Darrin Van Huff</td>\n",
       "        <td>Corporate</td>\n",
       "        <td>Los Angeles</td>\n",
       "        <td>California</td>\n",
       "        <td>West</td>\n",
       "        <td>90036</td>\n",
       "        <td>OFF-LA-10000240</td>\n",
       "        <td>Office Supplies</td>\n",
       "        <td>Labels</td>\n",
       "        <td>Self-Adhesive Address Labels for Typewriters by Universal</td>\n",
       "        <td>14.62</td>\n",
       "        <td>2</td>\n",
       "        <td>0.00</td>\n",
       "        <td>6.87</td>\n",
       "    </tr>\n",
       "    <tr>\n",
       "        <td>2015-11-10 00:00:00</td>\n",
       "        <td>2015-10-18 00:00:00</td>\n",
       "        <td>Standard Class</td>\n",
       "        <td>SO-20335</td>\n",
       "        <td>Sean O&#x27;Donnell</td>\n",
       "        <td>Consumer</td>\n",
       "        <td>Fort Lauderdale</td>\n",
       "        <td>Florida</td>\n",
       "        <td>South</td>\n",
       "        <td>33311</td>\n",
       "        <td>FUR-TA-10000577</td>\n",
       "        <td>Furniture</td>\n",
       "        <td>Tables</td>\n",
       "        <td>Bretford CR4500 Series Slim Rectangular Table</td>\n",
       "        <td>957.58</td>\n",
       "        <td>5</td>\n",
       "        <td>0.45</td>\n",
       "        <td>-383.03</td>\n",
       "    </tr>\n",
       "    <tr>\n",
       "        <td>2015-11-10 00:00:00</td>\n",
       "        <td>2015-10-18 00:00:00</td>\n",
       "        <td>Standard Class</td>\n",
       "        <td>SO-20335</td>\n",
       "        <td>Sean O&#x27;Donnell</td>\n",
       "        <td>Consumer</td>\n",
       "        <td>Fort Lauderdale</td>\n",
       "        <td>Florida</td>\n",
       "        <td>South</td>\n",
       "        <td>33311</td>\n",
       "        <td>OFF-ST-10000760</td>\n",
       "        <td>Office Supplies</td>\n",
       "        <td>Storage</td>\n",
       "        <td>Eldon Fold &#x27;N Roll Cart System</td>\n",
       "        <td>22.37</td>\n",
       "        <td>2</td>\n",
       "        <td>0.20</td>\n",
       "        <td>2.52</td>\n",
       "    </tr>\n",
       "</table>"
      ],
      "text/plain": [
       "[(datetime.datetime(2016, 8, 11, 0, 0), datetime.datetime(2016, 11, 11, 0, 0), 'Second Class', 'CG-12520', 'Claire Gute', 'Consumer', 'Henderson', 'Kentucky', 'South', 42420, 'FUR-BO-10001798', 'Furniture', 'Bookcases', 'Bush Somerset Collection Bookcase', Decimal('261.96'), 2, Decimal('0.00'), Decimal('41.91')),\n",
       " (datetime.datetime(2016, 8, 11, 0, 0), datetime.datetime(2016, 11, 11, 0, 0), 'Second Class', 'CG-12520', 'Claire Gute', 'Consumer', 'Henderson', 'Kentucky', 'South', 42420, 'FUR-CH-10000454', 'Furniture', 'Chairs', 'Hon Deluxe Fabric Upholstered Stacking Chairs, Rounded Back', Decimal('731.94'), 3, Decimal('0.00'), Decimal('219.58')),\n",
       " (datetime.datetime(2016, 12, 6, 0, 0), datetime.datetime(2016, 6, 16, 0, 0), 'Second Class', 'DV-13045', 'Darrin Van Huff', 'Corporate', 'Los Angeles', 'California', 'West', 90036, 'OFF-LA-10000240', 'Office Supplies', 'Labels', 'Self-Adhesive Address Labels for Typewriters by Universal', Decimal('14.62'), 2, Decimal('0.00'), Decimal('6.87')),\n",
       " (datetime.datetime(2015, 11, 10, 0, 0), datetime.datetime(2015, 10, 18, 0, 0), 'Standard Class', 'SO-20335', \"Sean O'Donnell\", 'Consumer', 'Fort Lauderdale', 'Florida', 'South', 33311, 'FUR-TA-10000577', 'Furniture', 'Tables', 'Bretford CR4500 Series Slim Rectangular Table', Decimal('957.58'), 5, Decimal('0.45'), Decimal('-383.03')),\n",
       " (datetime.datetime(2015, 11, 10, 0, 0), datetime.datetime(2015, 10, 18, 0, 0), 'Standard Class', 'SO-20335', \"Sean O'Donnell\", 'Consumer', 'Fort Lauderdale', 'Florida', 'South', 33311, 'OFF-ST-10000760', 'Office Supplies', 'Storage', \"Eldon Fold 'N Roll Cart System\", Decimal('22.37'), 2, Decimal('0.20'), Decimal('2.52'))]"
      ]
     },
     "execution_count": 19,
     "metadata": {},
     "output_type": "execute_result"
    }
   ],
   "source": [
    "%%sql \n",
    "use SuperStore;\n",
    "\n",
    "SELECT  TOP 5\n",
    "        A.OderDate\n",
    "       ,A.ShipDate\n",
    "       ,B.ShipModeName\n",
    "       ,C.CustomerID\n",
    "       ,C.CustomerName\n",
    "       ,D.SegmentName\n",
    "       ,F.CityName\n",
    "       ,G.StateName\n",
    "       ,H.RegionName\n",
    "       ,E.PostalCode\n",
    "       ,I.ProductID\n",
    "       ,K.CategoryName\n",
    "       ,J.SubCategoryName\n",
    "       ,I.ProductName\n",
    "       ,A.Sales\n",
    "       ,A.Quantity\n",
    "       ,A.Discount\n",
    "       ,A.Profit\n",
    "FROM Orders A\n",
    "LEFT JOIN ShipModels B\n",
    "ON A.ShipModeID = B.ShipModeID\n",
    "LEFT JOIN Customers C\n",
    "ON A.CustomerID = C.CustomerID\n",
    "LEFT JOIN Segments D\n",
    "ON C.SegmentID = D.SegmentID\n",
    "LEFT JOIN Localisations E\n",
    "ON C.PostalCode = E.PostalCode\n",
    "LEFT JOIN Cities F\n",
    "ON E.CityID = F.CityID\n",
    "LEFT JOIN States G\n",
    "ON E.StateID = G.StateID\n",
    "LEFT JOIN Regions H\n",
    "ON E.RegionID = H.RegionID\n",
    "LEFT JOIN Products I\n",
    "ON A.UniqueProductID = I.UniqueProductID\n",
    "LEFT JOIN SubCategories J\n",
    "ON I.SubCategoryID = J.SubCategoryID\n",
    "LEFT JOIN Categories K\n",
    "ON J.CategoryID = K.CategoryID"
   ]
  }
 ],
 "metadata": {
  "interpreter": {
   "hash": "ecf5722fdaf1897a315d257d89d94520bfcaa453217d5becf09b39e73618b0de"
  },
  "kernelspec": {
   "display_name": "Python (myenv)",
   "language": "python",
   "name": "python3"
  },
  "language_info": {
   "codemirror_mode": {
    "name": "ipython",
    "version": 3
   },
   "file_extension": ".py",
   "mimetype": "text/x-python",
   "name": "python",
   "nbconvert_exporter": "python",
   "pygments_lexer": "ipython3",
   "version": "3.9.10"
  },
  "orig_nbformat": 4
 },
 "nbformat": 4,
 "nbformat_minor": 2
}
